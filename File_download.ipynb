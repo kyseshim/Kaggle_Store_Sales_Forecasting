{
 "cells": [
  {
   "cell_type": "code",
   "execution_count": 1,
   "id": "aa947d59",
   "metadata": {
    "ExecuteTime": {
     "end_time": "2022-07-11T18:28:01.167935Z",
     "start_time": "2022-07-11T18:27:57.968773Z"
    }
   },
   "outputs": [],
   "source": [
    "!pip install -q kaggle"
   ]
  },
  {
   "cell_type": "code",
   "execution_count": 2,
   "id": "2038c9a7",
   "metadata": {
    "ExecuteTime": {
     "end_time": "2022-07-11T18:28:03.674082Z",
     "start_time": "2022-07-11T18:28:02.233800Z"
    }
   },
   "outputs": [
    {
     "name": "stdout",
     "output_type": "stream",
     "text": [
      "Name: kaggle\n",
      "Version: 1.5.12\n",
      "Summary: Kaggle API\n",
      "Home-page: https://github.com/Kaggle/kaggle-api\n",
      "Author: Kaggle\n",
      "Author-email: support@kaggle.com\n",
      "License: Apache 2.0\n",
      "Location: c:\\users\\user\\anaconda3\\lib\\site-packages\n",
      "Requires: tqdm, requests, python-dateutil, six, python-slugify, urllib3, certifi\n",
      "Required-by: \n"
     ]
    }
   ],
   "source": [
    "!pip show kaggle"
   ]
  },
  {
   "cell_type": "code",
   "execution_count": 3,
   "id": "472316ff",
   "metadata": {
    "ExecuteTime": {
     "end_time": "2022-07-11T18:28:06.837395Z",
     "start_time": "2022-07-11T18:28:05.038010Z"
    }
   },
   "outputs": [
    {
     "name": "stdout",
     "output_type": "stream",
     "text": [
      "Downloading store-sales-time-series-forecasting.zip to C:\\Users\\USER\\Documents\\GitHub\\Kaggle_Store_Sales_Forecasting\n",
      "\n"
     ]
    },
    {
     "name": "stderr",
     "output_type": "stream",
     "text": [
      "\n",
      "  0%|          | 0.00/21.4M [00:00<?, ?B/s]\n",
      "  9%|9         | 2.00M/21.4M [00:00<00:01, 17.9MB/s]\n",
      " 33%|###2      | 7.00M/21.4M [00:00<00:00, 33.1MB/s]\n",
      " 56%|#####6    | 12.0M/21.4M [00:00<00:00, 37.8MB/s]\n",
      " 80%|#######9  | 17.0M/21.4M [00:00<00:00, 34.2MB/s]\n",
      "100%|##########| 21.4M/21.4M [00:00<00:00, 36.9MB/s]\n",
      "100%|##########| 21.4M/21.4M [00:00<00:00, 35.1MB/s]\n"
     ]
    }
   ],
   "source": [
    "!kaggle competitions download -c store-sales-time-series-forecasting"
   ]
  },
  {
   "cell_type": "code",
   "execution_count": null,
   "id": "eba0d990",
   "metadata": {},
   "outputs": [],
   "source": []
  }
 ],
 "metadata": {
  "kernelspec": {
   "display_name": "Python 3",
   "language": "python",
   "name": "python3"
  },
  "language_info": {
   "codemirror_mode": {
    "name": "ipython",
    "version": 3
   },
   "file_extension": ".py",
   "mimetype": "text/x-python",
   "name": "python",
   "nbconvert_exporter": "python",
   "pygments_lexer": "ipython3",
   "version": "3.8.8"
  },
  "varInspector": {
   "cols": {
    "lenName": 16,
    "lenType": 16,
    "lenVar": 40
   },
   "kernels_config": {
    "python": {
     "delete_cmd_postfix": "",
     "delete_cmd_prefix": "del ",
     "library": "var_list.py",
     "varRefreshCmd": "print(var_dic_list())"
    },
    "r": {
     "delete_cmd_postfix": ") ",
     "delete_cmd_prefix": "rm(",
     "library": "var_list.r",
     "varRefreshCmd": "cat(var_dic_list()) "
    }
   },
   "types_to_exclude": [
    "module",
    "function",
    "builtin_function_or_method",
    "instance",
    "_Feature"
   ],
   "window_display": false
  }
 },
 "nbformat": 4,
 "nbformat_minor": 5
}
