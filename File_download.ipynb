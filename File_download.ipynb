{
 "cells": [
  {
   "cell_type": "code",
   "execution_count": 1,
   "id": "aa947d59",
   "metadata": {
    "ExecuteTime": {
     "end_time": "2022-07-03T14:37:17.975161Z",
     "start_time": "2022-07-03T14:37:12.208672Z"
    }
   },
   "outputs": [],
   "source": [
    "!pip install -q kaggle"
   ]
  },
  {
   "cell_type": "code",
   "execution_count": 2,
   "id": "2038c9a7",
   "metadata": {
    "ExecuteTime": {
     "end_time": "2022-07-03T14:39:26.411217Z",
     "start_time": "2022-07-03T14:39:24.952357Z"
    }
   },
   "outputs": [
    {
     "name": "stdout",
     "output_type": "stream",
     "text": [
      "Name: kaggle\n",
      "Version: 1.5.12\n",
      "Summary: Kaggle API\n",
      "Home-page: https://github.com/Kaggle/kaggle-api\n",
      "Author: Kaggle\n",
      "Author-email: support@kaggle.com\n",
      "License: Apache 2.0\n",
      "Location: c:\\users\\user\\anaconda3\\lib\\site-packages\n",
      "Requires: urllib3, requests, six, python-slugify, certifi, python-dateutil, tqdm\n",
      "Required-by: \n"
     ]
    }
   ],
   "source": [
    "!pip show kaggle"
   ]
  },
  {
   "cell_type": "code",
   "execution_count": 3,
   "id": "472316ff",
   "metadata": {
    "ExecuteTime": {
     "end_time": "2022-07-03T14:39:53.227133Z",
     "start_time": "2022-07-03T14:39:49.865174Z"
    }
   },
   "outputs": [
    {
     "name": "stdout",
     "output_type": "stream",
     "text": [
      "Downloading store-sales-time-series-forecasting.zip to C:\\Users\\USER\\Documents\\GitHub\\Kaggle_Store_Sales_Forecasting\n",
      "\n"
     ]
    },
    {
     "name": "stderr",
     "output_type": "stream",
     "text": [
      "\n",
      "  0%|          | 0.00/21.4M [00:00<?, ?B/s]\n",
      "  5%|4         | 1.00M/21.4M [00:00<00:04, 5.31MB/s]\n",
      "  9%|9         | 2.00M/21.4M [00:00<00:02, 7.37MB/s]\n",
      " 14%|#4        | 3.00M/21.4M [00:00<00:02, 8.47MB/s]\n",
      " 19%|#8        | 4.00M/21.4M [00:00<00:02, 9.10MB/s]\n",
      " 23%|##3       | 5.00M/21.4M [00:00<00:01, 9.13MB/s]\n",
      " 28%|##8       | 6.00M/21.4M [00:00<00:01, 9.24MB/s]\n",
      " 33%|###2      | 7.00M/21.4M [00:00<00:01, 9.20MB/s]\n",
      " 37%|###7      | 8.00M/21.4M [00:00<00:01, 9.27MB/s]\n",
      " 42%|####2     | 9.00M/21.4M [00:01<00:01, 9.45MB/s]\n",
      " 47%|####6     | 10.0M/21.4M [00:01<00:01, 9.59MB/s]\n",
      " 51%|#####1    | 11.0M/21.4M [00:01<00:01, 9.75MB/s]\n",
      " 56%|#####6    | 12.0M/21.4M [00:01<00:01, 9.81MB/s]\n",
      " 61%|######    | 13.0M/21.4M [00:01<00:00, 9.90MB/s]\n",
      " 65%|######5   | 14.0M/21.4M [00:01<00:00, 9.90MB/s]\n",
      " 70%|#######   | 15.0M/21.4M [00:01<00:00, 9.91MB/s]\n",
      " 75%|#######4  | 16.0M/21.4M [00:01<00:00, 9.95MB/s]\n",
      " 80%|#######9  | 17.0M/21.4M [00:01<00:00, 10.0MB/s]\n",
      " 84%|########4 | 18.0M/21.4M [00:02<00:00, 9.96MB/s]\n",
      " 89%|########8 | 19.0M/21.4M [00:02<00:00, 9.92MB/s]\n",
      " 94%|#########3| 20.0M/21.4M [00:02<00:00, 9.94MB/s]\n",
      " 98%|#########8| 21.0M/21.4M [00:02<00:00, 10.0MB/s]\n",
      "100%|##########| 21.4M/21.4M [00:02<00:00, 9.49MB/s]\n"
     ]
    }
   ],
   "source": [
    "!kaggle competitions download -c store-sales-time-series-forecasting"
   ]
  },
  {
   "cell_type": "code",
   "execution_count": null,
   "id": "eba0d990",
   "metadata": {},
   "outputs": [],
   "source": []
  }
 ],
 "metadata": {
  "kernelspec": {
   "display_name": "Python 3",
   "language": "python",
   "name": "python3"
  },
  "language_info": {
   "codemirror_mode": {
    "name": "ipython",
    "version": 3
   },
   "file_extension": ".py",
   "mimetype": "text/x-python",
   "name": "python",
   "nbconvert_exporter": "python",
   "pygments_lexer": "ipython3",
   "version": "3.8.8"
  },
  "varInspector": {
   "cols": {
    "lenName": 16,
    "lenType": 16,
    "lenVar": 40
   },
   "kernels_config": {
    "python": {
     "delete_cmd_postfix": "",
     "delete_cmd_prefix": "del ",
     "library": "var_list.py",
     "varRefreshCmd": "print(var_dic_list())"
    },
    "r": {
     "delete_cmd_postfix": ") ",
     "delete_cmd_prefix": "rm(",
     "library": "var_list.r",
     "varRefreshCmd": "cat(var_dic_list()) "
    }
   },
   "types_to_exclude": [
    "module",
    "function",
    "builtin_function_or_method",
    "instance",
    "_Feature"
   ],
   "window_display": false
  }
 },
 "nbformat": 4,
 "nbformat_minor": 5
}
